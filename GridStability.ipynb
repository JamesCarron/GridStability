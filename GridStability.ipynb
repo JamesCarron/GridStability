{
 "cells": [
  {
   "cell_type": "code",
   "execution_count": 1,
   "metadata": {},
   "outputs": [],
   "source": [
    "# To initialise all the libraries you need for this notebook run the below code. \n",
    "# This is to be used when you are jumping through the document\n",
    "\n",
    "import numpy as np\n",
    "from numpy import sin,cos,exp, pi,log, log10, ceil\n",
    "np.set_printoptions(precision=6,suppress=True,threshold=10)\n",
    "\n",
    "import matplotlib.pyplot as plt\n",
    "import matplotlib as mpl\n",
    "mpl.rcParams['figure.figsize'] = (10,3)\n",
    "import matplotlib.style as plt_style\n",
    "plt_style.use(\"ggplot\")\n",
    "import matplotlib.dates as mdates\n",
    "\n",
    "import csv\n",
    "import datetime as dt\n",
    "from statistics import mean"
   ]
  },
  {
   "cell_type": "markdown",
   "metadata": {},
   "source": [
    "## <center> UNIVERSITY COLLEGE DUBLIN </center>\n",
    "## <center> SCHOOL OF ELECTRICAL, ELECTRONIC & COMMUNICATIONS ENG. </center>\n",
    "## <center> FINAL YEAR PROJECT</center>\n",
    "### <center> James Carron </center>\n",
    "## <center> EVs and the Grid </center>\n",
    "\n",
    "Report by: \n",
    "\n",
    "\n",
    "<center>James Carron:  15333196"
   ]
  },
  {
   "cell_type": "markdown",
   "metadata": {},
   "source": [
    "### Notes to self:\n",
    " - All values are in MW or MWh"
   ]
  },
  {
   "cell_type": "code",
   "execution_count": 2,
   "metadata": {},
   "outputs": [],
   "source": [
    "def areaundercurve(data,hline,interval=0.25):\n",
    "    total = 0.0\n",
    "    for value in data:\n",
    "        if value > hline:\n",
    "            total += (value-hline)*interval\n",
    "    return total\n",
    "\n",
    "def areaabovecurve(data,hline,interval=0.25):\n",
    "    total = 0.0\n",
    "    for value in data:\n",
    "        if value < hline:\n",
    "            total += (hline-value)*interval\n",
    "    return total"
   ]
  },
  {
   "cell_type": "code",
   "execution_count": 3,
   "metadata": {},
   "outputs": [
    {
     "name": "stdout",
     "output_type": "stream",
     "text": [
      "2018-01-05:\n",
      "Mean: \t4716.21 MW\n",
      "Total: \t113.19 GWh\n",
      "Range: \t2727 MW\n"
     ]
    }
   ],
   "source": [
    "CSVFILE = 'EirGridData050118.csv'\n",
    "#CSVFILE = 'EirGridData180218.csv'\n",
    "\n",
    "with open(CSVFILE, 'rb') as csvfile:\n",
    "    EirGridCsv = csv.reader(csvfile, delimiter=',', quotechar='|')\n",
    "    next(EirGridCsv) #skip the header\n",
    "    \n",
    "    #remove extra quote marks and convert to str to int\n",
    "    EirGridData = [[row[0].replace('\"', ''), int(row[1])] for row in EirGridCsv]\n",
    "\n",
    "EirGridDate = [item[0] for item in EirGridData]    \n",
    "EirGridValue = [item[1] for item in EirGridData]  \n",
    "\n",
    "for i, value in enumerate(EirGridDate):\n",
    "    EirGridDate[i] = dt.datetime.strptime(str(value), \"%Y-%m-%d %H:%M:%S\")\n",
    "    \n",
    "print(\"{}:\".format(EirGridDate[0].date()))    \n",
    "    \n",
    "MeanUsage = mean(EirGridValue)\n",
    "print(\"Mean: \\t{:.2f} MW\".format(MeanUsage))\n",
    "\n",
    "TotalUsage = sum(EirGridValue)*0.25\n",
    "print(\"Total: \\t{:.2f} GWh\".format(TotalUsage/(1000.0)))\n",
    "\n",
    "UsageRange = max(EirGridValue)-min(EirGridValue)\n",
    "print(\"Range: \\t{} MW\".format(UsageRange))"
   ]
  },
  {
   "cell_type": "markdown",
   "metadata": {},
   "source": [
    "Battery Capacity stats:\n",
    "https://en.wikipedia.org/wiki/Electric_vehicle_battery\n",
    "\n",
    "From this I assume a 50kW battery pack as standard"
   ]
  },
  {
   "cell_type": "code",
   "execution_count": 4,
   "metadata": {},
   "outputs": [
    {
     "name": "stdout",
     "output_type": "stream",
     "text": [
      "Capacity Available: 250 MWh\n",
      "Users Needed to smooth Peaks: 698347\n"
     ]
    }
   ],
   "source": [
    "BattPercUsage = 0.25\n",
    "BatteryCapacity = 50*(10**-3)\n",
    "NumUsers = 20000.0\n",
    "\n",
    "CapacityAvailable = BattPercUsage*BatteryCapacity*NumUsers\n",
    "print(\"Capacity Available: {:.0F} MWh\".format(CapacityAvailable))\n",
    "\n",
    "UsersNeeded = ceil(areaundercurve(EirGridValue,MeanUsage)/(BattPercUsage*BatteryCapacity))\n",
    "print(\"Users Needed to smooth Peaks: {:.0f}\".format(UsersNeeded))"
   ]
  },
  {
   "cell_type": "code",
   "execution_count": 5,
   "metadata": {},
   "outputs": [
    {
     "name": "stdout",
     "output_type": "stream",
     "text": [
      "Peak   w/ Batteries: 5883MW, \tLeeway: 0.5 MWh\n",
      "Trough w/ Batteries: 3496MW, \tLeeway: 2.5 MWh\n",
      "Range: \t2387 MW\n",
      "Peak Power draw per EV: 11.15 kW\n",
      "Max Charge rate per EV: 5.85 kW\n",
      "Variance Reduction: 340.00MW, 12%%\n"
     ]
    }
   ],
   "source": [
    "wbatterypeak = max(EirGridValue)\n",
    "while True:\n",
    "    \n",
    "    error = CapacityAvailable - areaundercurve(EirGridValue,wbatterypeak-1) #test next value\n",
    "    if error < 0:\n",
    "        error = CapacityAvailable - areaundercurve(EirGridValue,wbatterypeak)\n",
    "        break\n",
    "    else:\n",
    "        wbatterypeak -= 1\n",
    "print(\"Peak   w/ Batteries: {}MW, \\tLeeway: {} MWh\".format(wbatterypeak,error))\n",
    "\n",
    "wbatterytrough = min(EirGridValue)\n",
    "while True:\n",
    "    error = CapacityAvailable - areaabovecurve(EirGridValue,wbatterytrough+1) #test next value\n",
    "    \n",
    "    if error < 0:\n",
    "        error = CapacityAvailable - areaabovecurve(EirGridValue,wbatterytrough)\n",
    "        break\n",
    "    else:\n",
    "        wbatterytrough += 1\n",
    "        \n",
    "print(\"Trough w/ Batteries: {}MW, \\tLeeway: {} MWh\".format(wbatterytrough,error))\n",
    "\n",
    "wbatteryrange = wbatterypeak - wbatterytrough\n",
    "print(\"Range: \\t{} MW\".format(wbatteryrange))\n",
    "\n",
    "PeakPowerDraw = (max(EirGridValue)-wbatterypeak)/NumUsers\n",
    "print(\"Peak Power draw per EV: {} kW\".format(PeakPowerDraw*1000))\n",
    "\n",
    "MaxChargingRate = (wbatterytrough-min(EirGridValue))/NumUsers\n",
    "print(\"Max Charge rate per EV: {} kW\".format(MaxChargingRate*1000))\n",
    "\n",
    "Rangereduction = UsageRange - wbatteryrange\n",
    "Rangereductionperc = (UsageRange - wbatteryrange) / float(UsageRange)\n",
    "print(\"Variance Reduction: {:.2f}MW, {:.0%}%\".format(Rangereduction,Rangereductionperc))"
   ]
  },
  {
   "cell_type": "code",
   "execution_count": 6,
   "metadata": {},
   "outputs": [
    {
     "data": {
      "image/png": "[encoded data removed]",
      "text/plain": [
       "<matplotlib.figure.Figure at 0x7fde8513d250>"
      ]
     },
     "metadata": {},
     "output_type": "display_data"
    },
    {
     "name": "stdout",
     "output_type": "stream",
     "text": [
      "2018-01-05:\n",
      "Mean: \t4716.21 MW\n",
      "Total: \t113.19 GWh\n",
      "Range: \t2727 MW\n",
      "Peak   w/ Batteries: 5883MW, \tLeeway: 2.5 MWh\n",
      "Trough w/ Batteries: 3496MW, \tLeeway: 2.5 MWh\n",
      "Range: \t2387 MW\n",
      "Peak Power draw per EV: 11.15 kW\n",
      "Max Charge rate per EV: 5.85 kW\n"
     ]
    }
   ],
   "source": [
    "fig, ax = plt.subplots(figsize=(10,8))\n",
    "ax.plot(EirGridDate,EirGridValue,ls=\"-\",label = \"Demand\")\n",
    "ax.axhline(MeanUsage, color=\"g\",label = \"Average\")\n",
    "\n",
    "#Shading in battery effect\n",
    "\n",
    "# PEAK\n",
    "#ax.axhline(wbatterypeak, color=\"r\",label = \"hline\")\n",
    "boolarray = list()\n",
    "for value in EirGridValue:\n",
    "    if value > wbatterypeak:\n",
    "        boolarray.append(True)\n",
    "    else:\n",
    "        boolarray.append(False)\n",
    "        \n",
    "ax.fill_between(EirGridDate, wbatterypeak, EirGridValue, where= boolarray, interpolate=True)     \n",
    "\n",
    "# TROUGH\n",
    "#ax.axhline(wbatterytrough, color=\"b\",label = \"hline\")\n",
    "boolarray = list()\n",
    "for value in EirGridValue:\n",
    "    if value < wbatterytrough:\n",
    "        boolarray.append(True)\n",
    "    else:\n",
    "        boolarray.append(False)\n",
    "\n",
    "ax.fill_between(EirGridDate, wbatterytrough, EirGridValue, where= boolarray, interpolate=True)\n",
    "        \n",
    "        \n",
    "plt.title(\"Irish Energy Demand - {}\".format(EirGridDate[0].date()))\n",
    "plt.ylabel(\"MW\")\n",
    "plt.legend()\n",
    "\n",
    "#format the ticks\n",
    "myFmt = mdates.DateFormatter(\"%H:%M\")\n",
    "ax.xaxis.set_major_formatter(myFmt)\n",
    "ax.set_xlim(EirGridDate[0], EirGridDate[-1]+ dt.timedelta(minutes=15))\n",
    "plt.gcf().autofmt_xdate()\n",
    "\n",
    "plt.show()\n",
    "\n",
    "print(\"{}:\".format(EirGridDate[0].date()))    \n",
    "print(\"Mean: \\t{:.2f} MW\".format(MeanUsage))\n",
    "print(\"Total: \\t{:.2f} GWh\".format(TotalUsage/(1000.0)))\n",
    "print(\"Range: \\t{} MW\".format(UsageRange))\n",
    "\n",
    "print(\"Peak   w/ Batteries: {}MW, \\tLeeway: {} MWh\".format(wbatterypeak,error))\n",
    "print(\"Trough w/ Batteries: {}MW, \\tLeeway: {} MWh\".format(wbatterytrough,error))\n",
    "print(\"Range: \\t{} MW\".format(wbatteryrange))\n",
    "\n",
    "print(\"Peak Power draw per EV: {} kW\".format(PeakPowerDraw*1000))\n",
    "print(\"Max Charge rate per EV: {} kW\".format(MaxChargingRate*1000))"
   ]
  }
 ],
 "metadata": {
  "kernelspec": {
   "display_name": "Python 3",
   "language": "python",
   "name": "python3"
  },
  "language_info": {
   "codemirror_mode": {
    "name": "ipython",
    "version": 2
   },
   "file_extension": ".py",
   "mimetype": "text/x-python",
   "name": "python",
   "nbconvert_exporter": "python",
   "pygments_lexer": "ipython2",
   "version": "2.7.15rc1"
  }
 },
 "nbformat": 4,
 "nbformat_minor": 2
}
