{
 "cells": [
  {
   "cell_type": "code",
   "execution_count": 2,
   "metadata": {},
   "outputs": [],
   "source": [
    "# To initialise all the libraries you need for this notebook run the below code. \n",
    "# This is to be used when you are jumping through the document\n",
    "\n",
    "import numpy as np\n",
    "import numpy.linalg as linalg\n",
    "from numpy import sin,cos,exp, pi,log, log10\n",
    "from numpy.polynomial.polynomial import *\n",
    "np.set_printoptions(precision=6,suppress=True,threshold=10)\n",
    "\n",
    "import matplotlib.pyplot as plt\n",
    "import matplotlib as mpl\n",
    "mpl.rcParams['figure.figsize'] = (10,3)\n",
    "import matplotlib.style as plt_style\n",
    "plt_style.use(\"ggplot\")\n",
    "\n",
    "import scipy.signal as signal\n",
    "from scipy.fftpack import fft\n",
    "import scipy.integrate as integrate"
   ]
  },
  {
   "cell_type": "markdown",
   "metadata": {},
   "source": [
    "## <center> UNIVERSITY COLLEGE DUBLIN </center>\n",
    "## <center> SCHOOL OF ELECTRICAL, ELECTRONIC & COMMUNICATIONS ENG. </center>\n",
    "## <center> EEEN30150 MODELLING & SIMULATION</center>\n",
    "### <center>Minor Project 1</center>\n",
    "## <center>SOLUTION OF EQUATIONS BY ITERATION</center>\n",
    "\n",
    "Report by: \n",
    "\n",
    "\n",
    "<center>James Carron:  15333196"
   ]
  },
  {
   "cell_type": "code",
   "execution_count": 3,
   "metadata": {
    "scrolled": true
   },
   "outputs": [
    {
     "data": {
      "image/png": "[encoded data removed]",
      "text/plain": [
       "<matplotlib.figure.Figure at 0x7f0bdef21110>"
      ]
     },
     "metadata": {},
     "output_type": "display_data"
    }
   ],
   "source": [
    "f = np.concatenate((np.ones(50),np.zeros(50)))\n",
    "f = np.tile(f,6) #create a array by concatenating f 6 times in a 1D arrangement\n",
    "t = np.arange(-3,3,0.01)\n",
    "\n",
    "plt.plot(t,f)\n",
    "plt.xlabel(\"Time (s)\")\n",
    "plt.ylabel(\"Amplitude\")\n",
    "plt.title(\"Square Wave\")\n",
    "plt.show()"
   ]
  },
  {
   "cell_type": "code",
   "execution_count": null,
   "metadata": {},
   "outputs": [],
   "source": []
  },
  {
   "cell_type": "code",
   "execution_count": 1,
   "metadata": {},
   "outputs": [
    {
     "data": {
      "text/html": [
       "<script>\n",
       "  function code_toggle() {\n",
       "    if (code_shown){\n",
       "      $('div.input').hide('500');\n",
       "      $('#toggleButton').val('Toggle Code')\n",
       "    } else {\n",
       "      $('div.input').show('500');\n",
       "      $('#toggleButton').val('Toggle Code')\n",
       "    }\n",
       "    code_shown = !code_shown\n",
       "  }\n",
       "\n",
       "  $( document ).ready(function(){\n",
       "    code_shown=false;\n",
       "    $('div.input').hide()\n",
       "  });\n",
       "</script>\n",
       "<form action=\"javascript:code_toggle()\"><input type=\"submit\" id=\"toggleButton\" value=\"Toggle Code\"></form>"
      ],
      "text/plain": [
       "<IPython.core.display.HTML object>"
      ]
     },
     "execution_count": 1,
     "metadata": {},
     "output_type": "execute_result"
    }
   ],
   "source": [
    "# from IPython.display import HTML\n",
    "\n",
    "# HTML('''<script>\n",
    "#   function code_toggle() {\n",
    "#     if (code_shown){\n",
    "#       $('div.input').hide('500');\n",
    "#       $('#toggleButton').val('Toggle Code')\n",
    "#     } else {\n",
    "#       $('div.input').show('500');\n",
    "#       $('#toggleButton').val('Toggle Code')\n",
    "#     }\n",
    "#     code_shown = !code_shown\n",
    "#   }\n",
    "\n",
    "#   $( document ).ready(function(){\n",
    "#     code_shown=false;\n",
    "#     $('div.input').hide()\n",
    "#   });\n",
    "# </script>\n",
    "# <form action=\"javascript:code_toggle()\"><input type=\"submit\" id=\"toggleButton\" value=\"Toggle Code\"></form>''')"
   ]
  }
 ],
 "metadata": {
  "kernelspec": {
   "display_name": "Python 3",
   "language": "python",
   "name": "python3"
  },
  "language_info": {
   "codemirror_mode": {
    "name": "ipython",
    "version": 2
   },
   "file_extension": ".py",
   "mimetype": "text/x-python",
   "name": "python",
   "nbconvert_exporter": "python",
   "pygments_lexer": "ipython2",
   "version": "2.7.15rc1"
  }
 },
 "nbformat": 4,
 "nbformat_minor": 2
}
