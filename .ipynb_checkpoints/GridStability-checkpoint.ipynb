{
 "cells": [
  {
   "cell_type": "code",
   "execution_count": 1,
   "metadata": {},
   "outputs": [],
   "source": [
    "# To initialise all the libraries you need for this notebook run the below code. \n",
    "# This is to be used when you are jumping through the document\n",
    "\n",
    "import numpy as np\n",
    "from numpy import sin,cos,exp, pi,log, log10, ceil\n",
    "np.set_printoptions(precision=6,suppress=True,threshold=10)\n",
    "\n",
    "import matplotlib.pyplot as plt\n",
    "import matplotlib as mpl\n",
    "mpl.rcParams['figure.figsize'] = (10,3)\n",
    "import matplotlib.style as plt_style\n",
    "plt_style.use(\"ggplot\")\n",
    "import matplotlib.dates as mdates\n",
    "\n",
    "import csv\n",
    "import datetime as dt\n",
    "from statistics import mean"
   ]
  },
  {
   "cell_type": "markdown",
   "metadata": {},
   "source": [
    "## <center> UNIVERSITY COLLEGE DUBLIN </center>\n",
    "## <center> SCHOOL OF ELECTRICAL, ELECTRONIC & COMMUNICATIONS ENG. </center>\n",
    "## <center> FINAL YEAR PROJECT</center>\n",
    "### <center> James Carron </center>\n",
    "## <center> EVs and the Grid </center>\n",
    "\n",
    "Report by: \n",
    "\n",
    "\n",
    "<center>James Carron:  15333196"
   ]
  },
  {
   "cell_type": "markdown",
   "metadata": {},
   "source": [
    "### Notes to self:\n",
    " - All values are in MW or MWh\n",
    " \n",
    "### To Do\n",
    "- Factor in the charging of the cars for regular use at night\n",
    "\n",
    "### Thoughts\n",
    "- How do we invert the power from the batteries? Will this be something the manufacturer has to implement?\n",
    "- Inverter in the car or charger? Cost, Size etc"
   ]
  },
  {
   "cell_type": "code",
   "execution_count": 2,
   "metadata": {},
   "outputs": [],
   "source": [
    "def areaundercurve(data,hline,interval=0.25):\n",
    "    total = 0.0\n",
    "    for value in data:\n",
    "        if value > hline:\n",
    "            total += (value-hline)*interval\n",
    "    return total\n",
    "\n",
    "def areaabovecurve(data,hline,interval=0.25):\n",
    "    total = 0.0\n",
    "    for value in data:\n",
    "        if value < hline:\n",
    "            total += (hline-value)*interval\n",
    "    return total"
   ]
  },
  {
   "cell_type": "code",
   "execution_count": 3,
   "metadata": {},
   "outputs": [],
   "source": [
    "def importEirGridCSV(FILENAME, OUTPUT = False):\n",
    "    with open(FILENAME, 'rb') as csvfile:\n",
    "        EirGridCsv = csv.reader(csvfile, delimiter=',', quotechar='|')\n",
    "        next(EirGridCsv) #skip the header\n",
    "\n",
    "        #remove extra quote marks and convert to str to int\n",
    "        EirGridData = [[row[0].replace('\"', ''), int(row[1])] for row in EirGridCsv]\n",
    "\n",
    "    EirGridDate = [item[0] for item in EirGridData]    \n",
    "    EirGridValue = [item[1] for item in EirGridData]  \n",
    "\n",
    "    for i, value in enumerate(EirGridDate):\n",
    "        EirGridDate[i] = dt.datetime.strptime(str(value), \"%Y-%m-%d %H:%M:%S\")\n",
    "    \n",
    "    if OUTPUT:\n",
    "        print(\"Data from {} imported successfully\".format(EirGridDate[0].date()))  \n",
    "    \n",
    "    return [EirGridDate,EirGridValue]"
   ]
  },
  {
   "cell_type": "code",
   "execution_count": 4,
   "metadata": {},
   "outputs": [],
   "source": [
    "def EvalGridUsage(EirGridValue, OUTPUT = False):\n",
    "\n",
    "    PeakDemand = max(EirGridValue)\n",
    "    MinDemand = min(EirGridValue)\n",
    "    UsageRange = max(EirGridValue)-min(EirGridValue)\n",
    "    MeanUsage = mean(EirGridValue)\n",
    "    TotalUsage = sum(EirGridValue)*0.25\n",
    "    \n",
    "    if OUTPUT:\n",
    "        print(\"Peak Demand: \\t{:.2f} MW\".format(PeakDemand))\n",
    "        print(\"Min Demand: \\t{:.2f} MW\".format(MinDemand))\n",
    "        print(\"Range: \\t{} MW\".format(UsageRange))\n",
    "        print(\"Mean: \\t{:.2f} MW\".format(MeanUsage))\n",
    "        print(\"Total: \\t{:.2f} GWh\".format(TotalUsage/(1000.0)))\n",
    "    \n",
    "    return [PeakDemand, MinDemand, UsageRange, MeanUsage, TotalUsage]"
   ]
  },
  {
   "cell_type": "code",
   "execution_count": 5,
   "metadata": {},
   "outputs": [],
   "source": [
    "def EvalBatteryStats(EirGridValue,MeanUsage,BattPercUsage,BatteryCapacity,NumUsers,DEBUG = True):\n",
    "    CapacityAvailable = BattPercUsage*BatteryCapacity*NumUsers\n",
    "\n",
    "    if DEBUG:\n",
    "        print(\"Capacity Available: {:.0F} MWh\".format(CapacityAvailable))\n",
    "        \n",
    "    return [CapacityAvailable, UsersNeeded]\n",
    "\n",
    "def EvalBatterySmoothing(EirGridValue, DischargeCap, ChargeCap, OUTPUT = False, LEEWAY = False):\n",
    "    wbatterypeak = max(EirGridValue)\n",
    "    while True:\n",
    "\n",
    "        peakleeway = DischargeCap - areaundercurve(EirGridValue,wbatterypeak-1) #test next value\n",
    "        if peakleeway < 0:\n",
    "            peakleeway = DischargeCap - areaundercurve(EirGridValue,wbatterypeak)\n",
    "            break\n",
    "        else:\n",
    "            wbatterypeak -= 1\n",
    "\n",
    "    wbatterytrough = min(EirGridValue)\n",
    "    while True:\n",
    "        troughleeway = ChargeCap - areaabovecurve(EirGridValue,wbatterytrough+1) #test next value\n",
    "\n",
    "        if troughleeway < 0:\n",
    "            troughleeway = ChargeCap - areaabovecurve(EirGridValue,wbatterytrough)\n",
    "            break\n",
    "        else:\n",
    "            wbatterytrough += 1     \n",
    "\n",
    "    wbatteryrange = wbatterypeak - wbatterytrough\n",
    "\n",
    "\n",
    "    \n",
    "    if OUTPUT:\n",
    "        print(\"Peak   w/ Batteries: {}MW, \\tLeeway: {} MWh\".format(wbatterypeak, peakleeway))\n",
    "        print(\"Trough w/ Batteries: {}MW, \\tLeeway: {} MWh\".format(wbatterytrough, troughleeway))\n",
    "        print(\"Range: \\t{} MW\".format(wbatteryrange))\n",
    "    \n",
    "    if LEEWAY:\n",
    "        return [wbatterypeak, wbatterytrough, wbatteryrange, peakleeway, troughleeway]    \n",
    "    else:\n",
    "        return [wbatterypeak, wbatterytrough, wbatteryrange]\n",
    "\n",
    "def AdditionalBattStats(EirGridValue, wbatterypeak, wbatterytrough, NumUsers, UsageRange, OUTPUT = False):\n",
    "    wbatteryrange = wbatterypeak - wbatterytrough\n",
    "    PeakPowerDraw = (max(EirGridValue)-wbatterypeak)/NumUsers\n",
    "    MaxChargingRate = (wbatterytrough-min(EirGridValue))/NumUsers\n",
    "    Rangereduction = UsageRange - wbatteryrange\n",
    "    Rangereductionperc = (UsageRange - wbatteryrange) / float(UsageRange)\n",
    "    MeanUsage = mean(EirGridValue)\n",
    "    UsersNeeded = ceil(areaundercurve(EirGridValue,MeanUsage)/(BattPercUsage*BatteryCapacity))\n",
    "    \n",
    "    if OUTPUT:\n",
    "        print(\"Peak Power draw per EV: {} kW\".format(PeakPowerDraw*1000))\n",
    "        print(\"Max Charge rate per EV: {} kW\".format(MaxChargingRate*1000))\n",
    "        print(\"Range Reduction: {:.2f}MW, {:.0%}%\".format(Rangereduction,Rangereductionperc))\n",
    "        print(\"Users Needed to smooth Peaks: {:,.0f}\".format(UsersNeeded))\n",
    "    \n",
    "    return [PeakPowerDraw, MaxChargingRate, Rangereduction, Rangereductionperc, UsersNeeded]"
   ]
  },
  {
   "cell_type": "code",
   "execution_count": 34,
   "metadata": {},
   "outputs": [],
   "source": [
    "def graphDemandCurve(EirGridDate, EirGridValue, MeanUsage, wbatterypeak, wbatterytrough):\n",
    "    fig, ax = plt.subplots(figsize=(10,8))\n",
    "    ax.plot(EirGridDate,EirGridValue,ls=\"-\",label = \"Demand\")\n",
    "    ax.axhline(MeanUsage, color=\"g\",label = \"Average\")\n",
    "\n",
    "    #Shading in battery effect\n",
    "\n",
    "    # PEAK\n",
    "    #ax.axhline(wbatterypeak, color=\"r\",label = \"hline\")\n",
    "    boolarray = list()\n",
    "    for value in EirGridValue:\n",
    "        if value > wbatterypeak:\n",
    "            boolarray.append(True)\n",
    "        else:\n",
    "            boolarray.append(False)\n",
    "\n",
    "    ax.fill_between(EirGridDate, wbatterypeak, EirGridValue, where= boolarray, interpolate=True,label=\"Discharging batteries\")     \n",
    "\n",
    "    # TROUGH\n",
    "    #ax.axhline(wbatterytrough, color=\"b\",label = \"hline\")\n",
    "    boolarray = list()\n",
    "    for value in EirGridValue:\n",
    "        if value < wbatterytrough:\n",
    "            boolarray.append(True)\n",
    "        else:\n",
    "            boolarray.append(False)\n",
    "\n",
    "    ax.fill_between(EirGridDate, wbatterytrough, EirGridValue, where= boolarray, interpolate=True,label=\"Charging batteries\")\n",
    "\n",
    "\n",
    "    plt.title(\"Irish Energy Demand - {}\".format(EirGridDate[0].date()))\n",
    "    plt.ylabel(\"MW\")\n",
    "    plt.legend()\n",
    "\n",
    "    #format the ticks\n",
    "    myFmt = mdates.DateFormatter(\"%H:%M\")\n",
    "    ax.xaxis.set_major_formatter(myFmt)\n",
    "    ax.set_xlim(EirGridDate[0], EirGridDate[-1]+ dt.timedelta(minutes=15))\n",
    "    plt.gcf().autofmt_xdate()\n",
    "\n",
    "    plt.show()\n",
    "    \n",
    "    return True    "
   ]
  },
  {
   "cell_type": "code",
   "execution_count": 51,
   "metadata": {},
   "outputs": [],
   "source": [
    "def EvalBatteryProject(FILENAME, BattPercUsage, BatteryCapacity, ProposedNumUsers, ExistingUsers, AvgDistTrav, FUNC_OUTPUT = False):\n",
    "\n",
    "    EirGridDate,EirGridValue = importEirGridCSV(FILENAME, True)\n",
    "\n",
    "    PeakDemand, MinDemand, UsageRange, MeanUsage, TotalUsage = EvalGridUsage(EirGridValue, FUNC_OUTPUT)\n",
    "\n",
    "    DischargeCap = EvalBatteryStats(EirGridValue, MeanUsage, BattPercUsage, BatteryCapacity, ProposedNumUsers, FUNC_OUTPUT)\n",
    "    \n",
    "    wbatterypeak, wbatterytrough, wbatteryrange = EvalBatterySmoothing(EirGridValue, DischargeCap, OUTPUT = FUNC_OUTPUT)\n",
    "    \n",
    "    ChargingReq = DischargeCap + CalcEnergyUsage(AvgDistTrav)*(ProposedNumUsers - ExistingUsers)\n",
    "    \n",
    "    PeakPowerDraw, MaxChargingRate, Rangereduction, Rangereductionperc, UsersNeeded = AdditionalBattStats(EirGridValue, wbatterypeak, wbatterytrough, ProposedNumUsers, UsageRange, OUTPUT = FUNC_OUTPUT)\n",
    "\n",
    "    graphDemandCurve(EirGridDate, EirGridValue, MeanUsage, wbatterypeak, wbatterytrough)\n",
    "\n",
    "    print(\"{} POWER DEMAND STATS:\".format(EirGridDate[0].date()))   \n",
    "    print(\"Peak Demand: \\t{:.2f} MW\".format(PeakDemand))\n",
    "    print(\"Min Demand: \\t{:.2f} MW\".format(MinDemand))\n",
    "    print(\"Mean: \\t\\t{:.2f} MW\".format(MeanUsage))\n",
    "    print(\"Range: \\t\\t{} MW\".format(UsageRange))\n",
    "    print(\"Total Usage: \\t{:.2f} GWh\".format(TotalUsage/(1000.0)))\n",
    "\n",
    "\n",
    "    print(\"\\nPROPOSED PLAN:\")\n",
    "    print(\"{:,.0f} EV's w/ {:.0f} kW packs connected to the grid, using {:.0%} of their capacity\".format(NumUsers, BatteryCapacity*1000, BattPercUsage))\n",
    "    print(\"Available Capacity: \\t{:.0F} MWh\".format(CapacityAvailable))\n",
    "\n",
    "\n",
    "    print(\"\\nOUTCOME\")\n",
    "    print(\"Peak Usage: \\t{}MW\".format(wbatterypeak))\n",
    "    print(\"Min Usage: \\t{}MW\".format(wbatterytrough))\n",
    "    print(\"Range: \\t\\t{} MW \\tReduced by: {:.2f}MW, {:.0%}\".format(wbatteryrange, Rangereduction,Rangereductionperc))\n",
    "\n",
    "    print(\"Peak Power draw per EV: {} kW\".format(PeakPowerDraw*1000))\n",
    "    print(\"Max Charge rate per EV: {} kW\".format(MaxChargingRate*1000))\n",
    "\n",
    "    print(\"Users Needed to smooth Peaks: {:,.0f}\".format(UsersNeeded))"
   ]
  },
  {
   "cell_type": "markdown",
   "metadata": {},
   "source": [
    "# Main"
   ]
  },
  {
   "cell_type": "markdown",
   "metadata": {},
   "source": [
    "Battery Capacity stats:\n",
    "https://en.wikipedia.org/wiki/Electric_vehicle_battery\n",
    "\n",
    "From this I assume a 50kW battery pack as standard\n",
    "\n",
    "There are over 2.5million cars on the irish roads\n",
    "https://www.independent.ie/life/motoring/car-news/number-of-private-cars-on-our-roads-hits-two-million-34460268.html\n",
    "\n",
    "Approx 2000 EV's on the road currently: https://www.thejournal.ie/electric-cars-ireland-1869259-Jan2015/\n",
    "\n",
    "Avg Commute of 180km a week: https://www.thejournal.ie/commute-much-working-people-spend-eight-hours-a-week-travelling-187889-Jul2011/ or 26km a day\n",
    "Nissan Leaf 40kW, EPA tested range of 117km, ie 2.925km / kW\n",
    "Approx 9kW charge a day per car\n"
   ]
  },
  {
   "cell_type": "code",
   "execution_count": 45,
   "metadata": {},
   "outputs": [],
   "source": [
    "def CalcEnergyUsage(dist_pday, BatteryCapacity=40*(10**-3), Range = 117):\n",
    "    kw_per_km = BatteryCapacity/Range\n",
    "    dailyEnergyUsage = kw_per_km*dist_pday\n",
    "    return dailyEnergyUsage    "
   ]
  },
  {
   "cell_type": "code",
   "execution_count": 49,
   "metadata": {},
   "outputs": [
    {
     "name": "stdout",
     "output_type": "stream",
     "text": [
      "8.89 kWh\n"
     ]
    }
   ],
   "source": [
    "print(\"{:.2f} kWh\".format(CalcEnergyUsage(AvgDistTravelled_perday)*1000))"
   ]
  },
  {
   "cell_type": "code",
   "execution_count": 52,
   "metadata": {},
   "outputs": [
    {
     "name": "stdout",
     "output_type": "stream",
     "text": [
      "Data from 2018-01-05 imported successfully\n"
     ]
    },
    {
     "ename": "NameError",
     "evalue": "global name 'ChargeCap' is not defined",
     "output_type": "error",
     "traceback": [
      "\u001b[0;31m---------------------------------------------------------------------------\u001b[0m",
      "\u001b[0;31mNameError\u001b[0m                                 Traceback (most recent call last)",
      "\u001b[0;32m<ipython-input-52-c927ee5a2c6a>\u001b[0m in \u001b[0;36m<module>\u001b[0;34m()\u001b[0m\n\u001b[1;32m     13\u001b[0m \u001b[0mFUNC_OUTPUT\u001b[0m \u001b[0;34m=\u001b[0m \u001b[0mFalse\u001b[0m\u001b[0;34m\u001b[0m\u001b[0m\n\u001b[1;32m     14\u001b[0m \u001b[0;34m\u001b[0m\u001b[0m\n\u001b[0;32m---> 15\u001b[0;31m \u001b[0mEvalBatteryProject\u001b[0m\u001b[0;34m(\u001b[0m\u001b[0mFILENAME\u001b[0m\u001b[0;34m,\u001b[0m \u001b[0mBattPercUsage\u001b[0m\u001b[0;34m,\u001b[0m \u001b[0mBatteryCapacity\u001b[0m\u001b[0;34m,\u001b[0m \u001b[0mProposedNumUsers\u001b[0m\u001b[0;34m,\u001b[0m \u001b[0mExistingUsers\u001b[0m\u001b[0;34m,\u001b[0m \u001b[0mFUNC_OUTPUT\u001b[0m \u001b[0;34m=\u001b[0m \u001b[0mFalse\u001b[0m\u001b[0;34m)\u001b[0m\u001b[0;34m\u001b[0m\u001b[0m\n\u001b[0m",
      "\u001b[0;32m<ipython-input-51-41d5fb3e219a>\u001b[0m in \u001b[0;36mEvalBatteryProject\u001b[0;34m(FILENAME, BattPercUsage, BatteryCapacity, NumUsers, ExistingUsers, FUNC_OUTPUT)\u001b[0m\n\u001b[1;32m      7\u001b[0m     \u001b[0mDischargeCap\u001b[0m \u001b[0;34m=\u001b[0m \u001b[0mEvalBatteryStats\u001b[0m\u001b[0;34m(\u001b[0m\u001b[0mEirGridValue\u001b[0m\u001b[0;34m,\u001b[0m \u001b[0mMeanUsage\u001b[0m\u001b[0;34m,\u001b[0m \u001b[0mBattPercUsage\u001b[0m\u001b[0;34m,\u001b[0m \u001b[0mBatteryCapacity\u001b[0m\u001b[0;34m,\u001b[0m \u001b[0mNumUsers\u001b[0m\u001b[0;34m,\u001b[0m \u001b[0mFUNC_OUTPUT\u001b[0m\u001b[0;34m)\u001b[0m\u001b[0;34m\u001b[0m\u001b[0m\n\u001b[1;32m      8\u001b[0m \u001b[0;34m\u001b[0m\u001b[0m\n\u001b[0;32m----> 9\u001b[0;31m     \u001b[0mwbatterypeak\u001b[0m\u001b[0;34m,\u001b[0m \u001b[0mwbatterytrough\u001b[0m\u001b[0;34m,\u001b[0m \u001b[0mwbatteryrange\u001b[0m \u001b[0;34m=\u001b[0m \u001b[0mEvalBatterySmoothing\u001b[0m\u001b[0;34m(\u001b[0m\u001b[0mEirGridValue\u001b[0m\u001b[0;34m,\u001b[0m \u001b[0mChargeCap\u001b[0m\u001b[0;34m,\u001b[0m \u001b[0mOUTPUT\u001b[0m \u001b[0;34m=\u001b[0m \u001b[0mFUNC_OUTPUT\u001b[0m\u001b[0;34m)\u001b[0m\u001b[0;34m\u001b[0m\u001b[0m\n\u001b[0m\u001b[1;32m     10\u001b[0m \u001b[0;34m\u001b[0m\u001b[0m\n\u001b[1;32m     11\u001b[0m     \u001b[0mPeakPowerDraw\u001b[0m\u001b[0;34m,\u001b[0m \u001b[0mMaxChargingRate\u001b[0m\u001b[0;34m,\u001b[0m \u001b[0mRangereduction\u001b[0m\u001b[0;34m,\u001b[0m \u001b[0mRangereductionperc\u001b[0m\u001b[0;34m,\u001b[0m \u001b[0mUsersNeeded\u001b[0m \u001b[0;34m=\u001b[0m \u001b[0mAdditionalBattStats\u001b[0m\u001b[0;34m(\u001b[0m\u001b[0mEirGridValue\u001b[0m\u001b[0;34m,\u001b[0m \u001b[0mwbatterypeak\u001b[0m\u001b[0;34m,\u001b[0m \u001b[0mwbatterytrough\u001b[0m\u001b[0;34m,\u001b[0m \u001b[0mNumUsers\u001b[0m\u001b[0;34m,\u001b[0m \u001b[0mUsageRange\u001b[0m\u001b[0;34m,\u001b[0m \u001b[0mOUTPUT\u001b[0m \u001b[0;34m=\u001b[0m \u001b[0mFUNC_OUTPUT\u001b[0m\u001b[0;34m)\u001b[0m\u001b[0;34m\u001b[0m\u001b[0m\n",
      "\u001b[0;31mNameError\u001b[0m: global name 'ChargeCap' is not defined"
     ]
    }
   ],
   "source": [
    "BattPercUsage = 0.25\n",
    "BatteryCapacity = 50*(10**-3)\n",
    "ProposedNumUsers = 20000.0\n",
    "ExistingUsers = 2000\n",
    "BatteryStats = [BattPercUsage, BatteryCapacity, ProposedNumUsers, ExistingUsers]\n",
    "\n",
    "AvgDistTravelled_perday = 26 #kilometers\n",
    "\n",
    "FILENAME = 'EirGridData050118.csv'\n",
    "#FILENAME = 'EirGridData180218.csv'\n",
    "#FILENAME = \"EirGridData250618.csv\"\n",
    "\n",
    "FUNC_OUTPUT = False\n",
    "\n",
    "EvalBatteryProject(FILENAME, BattPercUsage, BatteryCapacity, ProposedNumUsers, ExistingUsers, FUNC_OUTPUT = False)"
   ]
  }
 ],
 "metadata": {
  "kernelspec": {
   "display_name": "Python 3",
   "language": "python",
   "name": "python3"
  },
  "language_info": {
   "codemirror_mode": {
    "name": "ipython",
    "version": 2
   },
   "file_extension": ".py",
   "mimetype": "text/x-python",
   "name": "python",
   "nbconvert_exporter": "python",
   "pygments_lexer": "ipython2",
   "version": "2.7.15rc1"
  }
 },
 "nbformat": 4,
 "nbformat_minor": 2
}
